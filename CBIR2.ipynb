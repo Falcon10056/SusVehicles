{
 "cells": [
  {
   "cell_type": "code",
   "execution_count": 16,
   "id": "f796c53a",
   "metadata": {
    "scrolled": true
   },
   "outputs": [
    {
     "name": "stdout",
     "output_type": "stream",
     "text": [
      "1/1 [==============================] - 0s 161ms/step\n"
     ]
    },
    {
     "ename": "ValueError",
     "evalue": "cannot reshape array of size 25088 into shape (4096,newaxis)",
     "output_type": "error",
     "traceback": [
      "\u001b[1;31m---------------------------------------------------------------------------\u001b[0m",
      "\u001b[1;31mValueError\u001b[0m                                Traceback (most recent call last)",
      "\u001b[1;32m~\\AppData\\Local\\Temp\\ipykernel_8448\\3527587983.py\u001b[0m in \u001b[0;36m<module>\u001b[1;34m\u001b[0m\n\u001b[0;32m     54\u001b[0m         \u001b[0mimage_paths\u001b[0m\u001b[1;33m.\u001b[0m\u001b[0mappend\u001b[0m\u001b[1;33m(\u001b[0m\u001b[1;34m\"D:/FYP/True/IVDB/cars/\"\u001b[0m\u001b[1;33m+\u001b[0m\u001b[0mi\u001b[0m\u001b[1;33m)\u001b[0m\u001b[1;33m\u001b[0m\u001b[1;33m\u001b[0m\u001b[0m\n\u001b[0;32m     55\u001b[0m \u001b[1;33m\u001b[0m\u001b[0m\n\u001b[1;32m---> 56\u001b[1;33m \u001b[0mretrieve_similar_images\u001b[0m\u001b[1;33m(\u001b[0m\u001b[0mquery_image_path\u001b[0m\u001b[1;33m,\u001b[0m \u001b[0mimage_paths\u001b[0m\u001b[1;33m,\u001b[0m \u001b[0mk\u001b[0m\u001b[1;33m=\u001b[0m\u001b[1;36m5\u001b[0m\u001b[1;33m)\u001b[0m\u001b[1;33m\u001b[0m\u001b[1;33m\u001b[0m\u001b[0m\n\u001b[0m",
      "\u001b[1;32m~\\AppData\\Local\\Temp\\ipykernel_8448\\3527587983.py\u001b[0m in \u001b[0;36mretrieve_similar_images\u001b[1;34m(query_image_path, image_paths, k)\u001b[0m\n\u001b[0;32m     30\u001b[0m \u001b[1;32mdef\u001b[0m \u001b[0mretrieve_similar_images\u001b[0m\u001b[1;33m(\u001b[0m\u001b[0mquery_image_path\u001b[0m\u001b[1;33m,\u001b[0m \u001b[0mimage_paths\u001b[0m\u001b[1;33m,\u001b[0m \u001b[0mk\u001b[0m\u001b[1;33m=\u001b[0m\u001b[1;36m5\u001b[0m\u001b[1;33m)\u001b[0m\u001b[1;33m:\u001b[0m\u001b[1;33m\u001b[0m\u001b[1;33m\u001b[0m\u001b[0m\n\u001b[0;32m     31\u001b[0m     \u001b[1;31m# Extract features from the query image\u001b[0m\u001b[1;33m\u001b[0m\u001b[1;33m\u001b[0m\u001b[0m\n\u001b[1;32m---> 32\u001b[1;33m     \u001b[0mquery_features\u001b[0m \u001b[1;33m=\u001b[0m \u001b[0mextract_features\u001b[0m\u001b[1;33m(\u001b[0m\u001b[0mquery_image_path\u001b[0m\u001b[1;33m)\u001b[0m\u001b[1;33m\u001b[0m\u001b[1;33m\u001b[0m\u001b[0m\n\u001b[0m\u001b[0;32m     33\u001b[0m     \u001b[1;31m# Extract features from the database images\u001b[0m\u001b[1;33m\u001b[0m\u001b[1;33m\u001b[0m\u001b[0m\n\u001b[0;32m     34\u001b[0m     \u001b[0mdatabase_features\u001b[0m \u001b[1;33m=\u001b[0m \u001b[0mnp\u001b[0m\u001b[1;33m.\u001b[0m\u001b[0marray\u001b[0m\u001b[1;33m(\u001b[0m\u001b[1;33m[\u001b[0m\u001b[0mextract_features\u001b[0m\u001b[1;33m(\u001b[0m\u001b[0mimage_path\u001b[0m\u001b[1;33m)\u001b[0m \u001b[1;32mfor\u001b[0m \u001b[0mimage_path\u001b[0m \u001b[1;32min\u001b[0m \u001b[0mimage_paths\u001b[0m\u001b[1;33m]\u001b[0m\u001b[1;33m)\u001b[0m\u001b[1;33m\u001b[0m\u001b[1;33m\u001b[0m\u001b[0m\n",
      "\u001b[1;32m~\\AppData\\Local\\Temp\\ipykernel_8448\\3527587983.py\u001b[0m in \u001b[0;36mextract_features\u001b[1;34m(image_path)\u001b[0m\n\u001b[0;32m     24\u001b[0m     \u001b[1;31m#features = np.array((features))\u001b[0m\u001b[1;33m\u001b[0m\u001b[1;33m\u001b[0m\u001b[0m\n\u001b[0;32m     25\u001b[0m     \u001b[0mfeatures\u001b[0m \u001b[1;33m=\u001b[0m \u001b[0mnp\u001b[0m\u001b[1;33m.\u001b[0m\u001b[0mmultiply\u001b[0m\u001b[1;33m.\u001b[0m\u001b[0mreduce\u001b[0m\u001b[1;33m(\u001b[0m\u001b[0mfeatures\u001b[0m\u001b[1;33m)\u001b[0m\u001b[1;33m\u001b[0m\u001b[1;33m\u001b[0m\u001b[0m\n\u001b[1;32m---> 26\u001b[1;33m     \u001b[0mfeatures\u001b[0m \u001b[1;33m=\u001b[0m \u001b[0mfeatures\u001b[0m\u001b[1;33m.\u001b[0m\u001b[0mreshape\u001b[0m\u001b[1;33m(\u001b[0m\u001b[1;36m4096\u001b[0m\u001b[1;33m,\u001b[0m\u001b[1;33m-\u001b[0m\u001b[1;36m1\u001b[0m\u001b[1;33m)\u001b[0m\u001b[1;33m\u001b[0m\u001b[1;33m\u001b[0m\u001b[0m\n\u001b[0m\u001b[0;32m     27\u001b[0m     \u001b[1;32mreturn\u001b[0m \u001b[0mfeatures\u001b[0m\u001b[1;33m\u001b[0m\u001b[1;33m\u001b[0m\u001b[0m\n\u001b[0;32m     28\u001b[0m \u001b[1;33m\u001b[0m\u001b[0m\n",
      "\u001b[1;31mValueError\u001b[0m: cannot reshape array of size 25088 into shape (4096,newaxis)"
     ]
    }
   ],
   "source": [
    "# Import necessary libraries\n",
    "import numpy as np\n",
    "import matplotlib.pyplot as plt\n",
    "import tensorflow as tf\n",
    "from tensorflow.keras.applications.vgg16 import VGG16\n",
    "from tensorflow.keras.preprocessing.image import load_img, img_to_array\n",
    "from tensorflow.keras.applications.vgg16 import preprocess_input\n",
    "from sklearn.neighbors import NearestNeighbors\n",
    "import os\n",
    "\n",
    "# Load VGG16 model and remove the classification layer\n",
    "model = VGG16(weights='imagenet', include_top=False, input_shape=(224, 224, 3))\n",
    "\n",
    "# Define a function to extract features from an image using VGG16\n",
    "def extract_features(image_path):\n",
    "    # Load the image and convert it to a numpy array\n",
    "    img = load_img(image_path, target_size=(224, 224))\n",
    "    img = img_to_array(img)\n",
    "    # Preprocess the image for VGG16\n",
    "    img = preprocess_input(img)\n",
    "    # Extract features from the image using VGG16\n",
    "    features = model.predict(np.array([img]))\n",
    "    # Reshape the features to a 1D array\n",
    "    features = np.array((features))\n",
    "    features = features.reshape(4096,-1)\n",
    "    return features\n",
    "\n",
    "# Define a function to retrieve similar images from a database\n",
    "def retrieve_similar_images(query_image_path, image_paths, k=5):\n",
    "    # Extract features from the query image\n",
    "    query_features = extract_features(query_image_path)\n",
    "    # Extract features from the database images\n",
    "    database_features = np.array([extract_features(image_path) for image_path in image_paths])\n",
    "    # Use k-nearest neighbors to retrieve similar images\n",
    "    nn = NearestNeighbors(n_neighbors=k, metric='cosine')\n",
    "    nn.fit(database_features)\n",
    "    distances, indices = nn.kneighbors(np.array([query_features]))\n",
    "    # Plot the query image and similar images\n",
    "    fig, axs = plt.subplots(1, k+1, figsize=(15, 8))\n",
    "    axs[0].imshow(load_img(query_image_path))\n",
    "    axs[0].set_title('Query Image')\n",
    "    for i in range(k):\n",
    "        axs[i+1].imshow(load_img(image_paths[indices[0][i]]))\n",
    "        axs[i+1].set_title(f'Distance: {distances[0][i]:.2f}')\n",
    "    plt.show()\n",
    "\n",
    "# Example usage\n",
    "query_image_path = 'D://Downloads//car.jpg'\n",
    "image_paths = []\n",
    "path = r\"D:/FYP/True/IVDB/cars\"\n",
    "folders = os.listdir(path)\n",
    "for i in folders:\n",
    "        image_paths.append(\"D:/FYP/True/IVDB/cars/\"+i)\n",
    "        \n",
    "retrieve_similar_images(query_image_path, image_paths, k=5)\n"
   ]
  }
 ],
 "metadata": {
  "kernelspec": {
   "display_name": "Python 3 (ipykernel)",
   "language": "python",
   "name": "python3"
  },
  "language_info": {
   "codemirror_mode": {
    "name": "ipython",
    "version": 3
   },
   "file_extension": ".py",
   "mimetype": "text/x-python",
   "name": "python",
   "nbconvert_exporter": "python",
   "pygments_lexer": "ipython3",
   "version": "3.9.13"
  }
 },
 "nbformat": 4,
 "nbformat_minor": 5
}
